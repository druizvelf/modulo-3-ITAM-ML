{
 "cells": [
  {
   "cell_type": "code",
   "execution_count": null,
   "metadata": {},
   "outputs": [],
   "source": []
  },
  {
   "cell_type": "code",
   "execution_count": 1,
   "metadata": {},
   "outputs": [],
   "source": [
    "import re\n",
    "import os\n",
    "import pandas as pd\n",
    "import matplotlib.pyplot as plt\n",
    "import numpy as np\n",
    "from requests_html import HTMLSession\n",
    "from collections import defaultdict\n",
    "from datetime import datetime\n",
    "import requests\n",
    "from nltk import corpus\n",
    "from unidecode import unidecode\n",
    "import PyPDF2\n",
    "from sklearn.model_selection import train_test_split\n",
    "from nltk import corpus\n",
    "from tqdm.notebook import tqdm\n",
    "import collections"
   ]
  },
  {
   "cell_type": "code",
   "execution_count": 2,
   "metadata": {},
   "outputs": [
    {
     "data": {
      "text/plain": [
       "184"
      ]
     },
     "execution_count": 2,
     "metadata": {},
     "output_type": "execute_result"
    }
   ],
   "source": [
    "url = (\"https://www.banxico.org.mx/publicaciones-y-prensa/\"\n",
    "      \"anuncios-de-las-decisiones-de-politica-monetaria/\"\n",
    "      \"anuncios-politica-monetaria-t.html\")\n",
    "\n",
    "with HTMLSession() as sess:\n",
    "    r = sess.get(url)\n",
    "\n",
    "anuncios = r.html.find(\"tr\")\n",
    "len(anuncios)"
   ]
  },
  {
   "cell_type": "code",
   "execution_count": 3,
   "metadata": {},
   "outputs": [],
   "source": [
    "#########################Lista de todos los comunicados en la página web de Banxico(Ej 1)\n",
    "base_anuncios = []\n",
    "for anun in range(len(anuncios)):\n",
    "    dt = r.html.find(\"td[class='bmdateview']\")[anun].text\n",
    "    dt = pd.to_datetime(dt, format='%d/%m/%y')\n",
    "    title_1 = r.html.find(\"td[class='bmtextview']\")[anun]\n",
    "    title,*_ = re.findall(\".*(?=\\nTexto)\",title_1.text)\n",
    "    link,*_ = r.html.find(\"td[class='bmtextview']\")[anun].absolute_links\n",
    "    base_anuncios.append([dt, title,link])\n",
    "\n",
    "##########################Filtro de comunicados en pandas df desde la fecha que queremos (Ej 1)\n",
    "df = pd.DataFrame(base_anuncios,columns=[\"date\",\"text\",\"url\"]).set_index(\"date\")\n",
    "df = df.loc[df.index > pd.Timestamp(2008,2,15)]\n",
    "\n",
    "##########################Guardar tabla en pkl (Ej 1)\n",
    "df.to_pickle(\"tabla_anuncios.pkl\")"
   ]
  },
  {
   "cell_type": "code",
   "execution_count": 4,
   "metadata": {},
   "outputs": [],
   "source": [
    "#Definición de clases (Ej 2)\n",
    "df[\"category\"] = df.text.str.extract(\"(disminuye|incrementa|sin cambio|aumenta|reduce)\")"
   ]
  },
  {
   "cell_type": "code",
   "execution_count": null,
   "metadata": {},
   "outputs": [],
   "source": []
  },
  {
   "cell_type": "code",
   "execution_count": 5,
   "metadata": {},
   "outputs": [
    {
     "data": {
      "text/plain": [
       "category\n",
       "disminuye     16\n",
       "incrementa    18\n",
       "sin cambio    71\n",
       "dtype: int64"
      ]
     },
     "execution_count": 5,
     "metadata": {},
     "output_type": "execute_result"
    }
   ],
   "source": [
    "####################################Conteo de categorías (Ej 3)\n",
    "df.groupby(\"category\").size()"
   ]
  },
  {
   "cell_type": "code",
   "execution_count": 6,
   "metadata": {},
   "outputs": [
    {
     "name": "stderr",
     "output_type": "stream",
     "text": [
      "C:\\Users\\O61291\\AppData\\Local\\Continuum\\anaconda3\\lib\\site-packages\\pandas\\plotting\\_matplotlib\\converter.py:103: FutureWarning: Using an implicitly registered datetime converter for a matplotlib plotting method. The converter was registered by pandas on import. Future versions of pandas will require you to explicitly register matplotlib converters.\n",
      "\n",
      "To register the converters:\n",
      "\t>>> from pandas.plotting import register_matplotlib_converters\n",
      "\t>>> register_matplotlib_converters()\n",
      "  warnings.warn(msg, FutureWarning)\n"
     ]
    },
    {
     "data": {
      "image/png": "[encoded data removed]",
      "text/plain": [
       "<Figure size 1152x360 with 2 Axes>"
      ]
     },
     "metadata": {
      "needs_background": "light"
     },
     "output_type": "display_data"
    }
   ],
   "source": [
    "####################################Gráficas (Ej 4)\n",
    "def cat_num(cat):\n",
    "    switcher = {\n",
    "        \"disminuye\": -1,\n",
    "        \"incrementa\": 1,\n",
    "       \"sin cambio\": 0,\n",
    "    }\n",
    "    return switcher.get(cat)\n",
    "\n",
    "df[\"cat_num\"] = [cat_num(x) for x in df.category]\n",
    "\n",
    "\n",
    "fig, axs = plt.subplots(1, 2, tight_layout=True, figsize=(16,5))\n",
    "axs[0].scatter(x = df.index, y = df.cat_num,\n",
    "               marker = \"+\")\n",
    "axs[0].set_yticks([-1,0,1])\n",
    "axs[1] = df[\"cat_num\"].groupby(df.category).count().plot(kind=\"bar\")\n",
    "        \n",
    "plt.show()"
   ]
  },
  {
   "cell_type": "code",
   "execution_count": 7,
   "metadata": {},
   "outputs": [
    {
     "data": {
      "text/plain": [
       "      category  \n",
       "2008  incrementa     3\n",
       "      sin cambio     6\n",
       "2009  disminuye      7\n",
       "      sin cambio     4\n",
       "2010  sin cambio    11\n",
       "2011  sin cambio     8\n",
       "2012  sin cambio     8\n",
       "2013  disminuye      3\n",
       "      sin cambio     5\n",
       "2014  disminuye      1\n",
       "      sin cambio     7\n",
       "2015  incrementa     1\n",
       "      sin cambio     7\n",
       "2016  incrementa     5\n",
       "      sin cambio     4\n",
       "2017  incrementa     5\n",
       "      sin cambio     3\n",
       "2018  incrementa     4\n",
       "      sin cambio     4\n",
       "2019  disminuye      4\n",
       "      sin cambio     4\n",
       "2020  disminuye      1\n",
       "Name: category, dtype: int64"
      ]
     },
     "execution_count": 7,
     "metadata": {},
     "output_type": "execute_result"
    }
   ],
   "source": [
    "####################################Agrupar anuncios por categoria y año (Ej 5)\n",
    "agrupado = (df.groupby([df.index.strftime('%Y'),'category'])['category']\n",
    "    .count())\n",
    "    \n",
    "agrupado"
   ]
  },
  {
   "cell_type": "code",
   "execution_count": 8,
   "metadata": {},
   "outputs": [],
   "source": [
    "#################################### Aux (Ej 6)\n",
    "sin_cambio = pd.DataFrame(agrupado.xs('sin cambio', level=1)).rename(columns={\"category\": \"sin_cambio\"})\n",
    "disminuye = pd.DataFrame(agrupado.xs('disminuye', level=1)).rename(columns={\"category\": \"disminuye\"})\n",
    "incrementa = pd.DataFrame(agrupado.xs('incrementa', level=1)).rename(columns={\"category\": \"incrementa\"})\n",
    "\n",
    "\n",
    "agrupado_2 = sin_cambio.join(disminuye).join(incrementa).fillna(0)"
   ]
  },
  {
   "cell_type": "code",
   "execution_count": 9,
   "metadata": {},
   "outputs": [
    {
     "data": {
      "image/png": "[encoded data removed]",
      "text/plain": [
       "<Figure size 432x288 with 1 Axes>"
      ]
     },
     "metadata": {
      "needs_background": "light"
     },
     "output_type": "display_data"
    }
   ],
   "source": [
    "#################################### Gráfica (Ej 6)\n",
    "N = len(agrupado_2)\n",
    "ind = np.arange(N)    # the x locations for the groups\n",
    "width = 0.5       # the width of the bars: can also be len(x) sequence\n",
    "\n",
    "p1 = plt.bar(ind, agrupado_2['sin_cambio'], width)\n",
    "p2 = plt.bar(ind, agrupado_2['disminuye'], width,\n",
    "             bottom=agrupado_2['sin_cambio'])\n",
    "p3 = plt.bar(ind, agrupado_2['incrementa'], width,\n",
    "             bottom=agrupado_2['sin_cambio'])\n",
    "\n",
    "plt.xticks(ind, agrupado_2.index)\n",
    "plt.yticks(np.arange(0, 13, 2))\n",
    "plt.legend((p1[0], p2[0], p3[0]), ('Sin Cambio', 'Disminuye', 'Incrementa'))\n",
    "plt.grid(alpha=0.6)\n",
    "\n",
    "plt.show()"
   ]
  },
  {
   "cell_type": "code",
   "execution_count": 10,
   "metadata": {},
   "outputs": [],
   "source": [
    "##########################Extracción de pdfs en local (Ej 7)\n",
    "for i in range(len(df)):\n",
    "    url = df['url'][i]\n",
    "    r = requests.get(url)\n",
    "    \n",
    "    paper = r.content\n",
    "\n",
    "    if not os.path.exists(\"descargas_banxico\"):  \n",
    "        os.mkdir(\"descargas_pdfs\")\n",
    "    \n",
    "    full_path = os.path.join(\"descargas_banxico\", f\"paper{i}.pdf\")\n",
    "    \n",
    "    with open(full_path,\"wb\") as f: # wb write binary\n",
    "        f.write(paper)"
   ]
  },
  {
   "cell_type": "code",
   "execution_count": 11,
   "metadata": {},
   "outputs": [
    {
     "name": "stderr",
     "output_type": "stream",
     "text": [
      "PdfReadWarning: Xref table not zero-indexed. ID numbers for objects will be corrected. [pdf.py:1736]\n"
     ]
    }
   ],
   "source": [
    "d = defaultdict(list)\n",
    "\n",
    "for i in range(len(df)):\n",
    "    \n",
    "    full_path = os.path.join(\"descargas_banxico\", f\"paper{i}.pdf\")\n",
    "    \n",
    "    pdf_file = open(full_path, 'rb')\n",
    "    read_pdf = PyPDF2.PdfFileReader(pdf_file)\n",
    "    number_of_pages = read_pdf.getNumPages()\n",
    "    c = collections.Counter(range(number_of_pages))\n",
    "\n",
    "    text_paper_i = ''\n",
    "    for j in c:\n",
    "       page = read_pdf.getPage(j)\n",
    "       page_content = page.extractText()\n",
    "       text_paper_i = text_paper_i + page_content\n",
    "            \n",
    "    d[df['category'][i]].append(text_paper_i)"
   ]
  },
  {
   "cell_type": "code",
   "execution_count": 12,
   "metadata": {},
   "outputs": [],
   "source": [
    "k1, k2, k3 = 'sin cambio', 'incrementa', 'disminuye'"
   ]
  },
  {
   "cell_type": "code",
   "execution_count": 13,
   "metadata": {},
   "outputs": [],
   "source": [
    "#############################Función para limpiar texto\n",
    "def limpia_texto(texto):\n",
    "    cln = texto.lower()\n",
    "    cln = re.sub(\"[^\\w ]\", \"\", cln)\n",
    "    return cln"
   ]
  },
  {
   "cell_type": "code",
   "execution_count": 14,
   "metadata": {},
   "outputs": [],
   "source": [
    "D1 = [limpia_texto(doc) for doc in d[k1]]\n",
    "D2 = [limpia_texto(doc) for doc in d[k2]]\n",
    "D3 = [limpia_texto(doc) for doc in d[k3]]\n",
    "\n",
    "D1, D1_test = train_test_split(D1,test_size = 0.2)\n",
    "D2, D2_test = train_test_split(D2,test_size = 0.2)\n",
    "D3, D3_test = train_test_split(D3,test_size = 0.2)\n"
   ]
  },
  {
   "cell_type": "code",
   "execution_count": 15,
   "metadata": {},
   "outputs": [
    {
     "data": {
      "text/plain": [
       "82"
      ]
     },
     "execution_count": 15,
     "metadata": {},
     "output_type": "execute_result"
    }
   ],
   "source": [
    "N1 = len(D1)\n",
    "N2 = len(D2)\n",
    "N3 = len(D3)\n",
    "N = N1 + N2 + N3\n",
    "N"
   ]
  },
  {
   "cell_type": "code",
   "execution_count": 21,
   "metadata": {},
   "outputs": [
    {
     "name": "stderr",
     "output_type": "stream",
     "text": [
      "[nltk_data] Downloading package stopwords to\n",
      "[nltk_data]     C:\\Users\\O61291\\AppData\\Roaming\\nltk_data...\n",
      "[nltk_data]   Unzipping corpora\\stopwords.zip.\n"
     ]
    },
    {
     "data": {
      "text/plain": [
       "True"
      ]
     },
     "execution_count": 21,
     "metadata": {},
     "output_type": "execute_result"
    }
   ],
   "source": [
    "import nltk\n",
    "nltk.download('stopwords')"
   ]
  },
  {
   "cell_type": "code",
   "execution_count": 32,
   "metadata": {},
   "outputs": [
    {
     "data": {
      "text/plain": [
       "322"
      ]
     },
     "execution_count": 32,
     "metadata": {},
     "output_type": "execute_result"
    }
   ],
   "source": [
    "stopwords = nltk.corpus.stopwords.words(\"spanish\")\n",
    "aditional_stopwords = ['mantener','disminuir','incrementar', 'mantengan','disminuyan','incrementen','además','general','vez']\n",
    "stopwords = stopwords + aditional_stopwords\n",
    "stopwords = [unidecode(word) for word in stopwords]\n",
    "len(stopwords)"
   ]
  },
  {
   "cell_type": "code",
   "execution_count": 33,
   "metadata": {},
   "outputs": [
    {
     "data": {
      "text/html": [
       "<div>\n",
       "<style scoped>\n",
       "    .dataframe tbody tr th:only-of-type {\n",
       "        vertical-align: middle;\n",
       "    }\n",
       "\n",
       "    .dataframe tbody tr th {\n",
       "        vertical-align: top;\n",
       "    }\n",
       "\n",
       "    .dataframe thead th {\n",
       "        text-align: right;\n",
       "    }\n",
       "</style>\n",
       "<table border=\"1\" class=\"dataframe\">\n",
       "  <thead>\n",
       "    <tr style=\"text-align: right;\">\n",
       "      <th></th>\n",
       "      <th>k1</th>\n",
       "      <th>k2</th>\n",
       "      <th>k3</th>\n",
       "    </tr>\n",
       "  </thead>\n",
       "  <tbody>\n",
       "    <tr>\n",
       "      <td>abundante</td>\n",
       "      <td>0.000125</td>\n",
       "      <td>0.00008</td>\n",
       "      <td>0.000121</td>\n",
       "    </tr>\n",
       "    <tr>\n",
       "      <td>presentaría</td>\n",
       "      <td>0.000063</td>\n",
       "      <td>0.00008</td>\n",
       "      <td>0.000121</td>\n",
       "    </tr>\n",
       "    <tr>\n",
       "      <td>expandiéndose</td>\n",
       "      <td>0.000313</td>\n",
       "      <td>0.00048</td>\n",
       "      <td>0.000121</td>\n",
       "    </tr>\n",
       "    <tr>\n",
       "      <td>reacción</td>\n",
       "      <td>0.000063</td>\n",
       "      <td>0.00016</td>\n",
       "      <td>0.000121</td>\n",
       "    </tr>\n",
       "    <tr>\n",
       "      <td>299</td>\n",
       "      <td>0.000031</td>\n",
       "      <td>0.00008</td>\n",
       "      <td>0.000242</td>\n",
       "    </tr>\n",
       "    <tr>\n",
       "      <td>pudieran</td>\n",
       "      <td>0.001126</td>\n",
       "      <td>0.00024</td>\n",
       "      <td>0.001572</td>\n",
       "    </tr>\n",
       "    <tr>\n",
       "      <td>alguna</td>\n",
       "      <td>0.000094</td>\n",
       "      <td>0.00008</td>\n",
       "      <td>0.000121</td>\n",
       "    </tr>\n",
       "    <tr>\n",
       "      <td>comenzar</td>\n",
       "      <td>0.000063</td>\n",
       "      <td>0.00008</td>\n",
       "      <td>0.000121</td>\n",
       "    </tr>\n",
       "    <tr>\n",
       "      <td>ambas</td>\n",
       "      <td>0.000125</td>\n",
       "      <td>0.00016</td>\n",
       "      <td>0.000121</td>\n",
       "    </tr>\n",
       "    <tr>\n",
       "      <td>máximos</td>\n",
       "      <td>0.000063</td>\n",
       "      <td>0.00016</td>\n",
       "      <td>0.000121</td>\n",
       "    </tr>\n",
       "  </tbody>\n",
       "</table>\n",
       "</div>"
      ],
      "text/plain": [
       "                     k1       k2        k3\n",
       "abundante      0.000125  0.00008  0.000121\n",
       "presentaría    0.000063  0.00008  0.000121\n",
       "expandiéndose  0.000313  0.00048  0.000121\n",
       "reacción       0.000063  0.00016  0.000121\n",
       "299            0.000031  0.00008  0.000242\n",
       "pudieran       0.001126  0.00024  0.001572\n",
       "alguna         0.000094  0.00008  0.000121\n",
       "comenzar       0.000063  0.00008  0.000121\n",
       "ambas          0.000125  0.00016  0.000121\n",
       "máximos        0.000063  0.00016  0.000121"
      ]
     },
     "execution_count": 33,
     "metadata": {},
     "output_type": "execute_result"
    }
   ],
   "source": [
    "V1 = [palabra for dialogo in D1 for palabra in dialogo.split() if palabra not in stopwords]\n",
    "V2 = [palabra for dialogo in D2 for palabra in dialogo.split() if palabra not in stopwords]\n",
    "V3 = [palabra for dialogo in D3 for palabra in dialogo.split() if palabra not in stopwords]\n",
    "\n",
    "V1_c = pd.Series(V1, name='k1').value_counts()\n",
    "V2_c = pd.Series(V2, name = 'k2').value_counts()\n",
    "V3_c = pd.Series(V3, name = 'k3').value_counts()\n",
    "\n",
    "\n",
    "V = set(V1) | set(V2) | set(V3)\n",
    "vocab = pd.DataFrame(index=V)\n",
    "vocab.shape\n",
    "\n",
    "# likelihood\n",
    "L = (vocab.join(V1_c, how = \"left\")\n",
    "    .join(V2_c, how = \"left\")\n",
    "    .join(V3_c, how = \"left\"))\n",
    "\n",
    "L = L.fillna(0) + 1 #numerador \n",
    "L = L / L.sum(axis=0) # L.sum(axis=0)  suma el total por clase \n",
    "\n",
    "L.sort_values(\"k1\",ascending = False)\n",
    "L.sample(10)"
   ]
  },
  {
   "cell_type": "code",
   "execution_count": 34,
   "metadata": {},
   "outputs": [],
   "source": [
    "log_L = np.log(L)\n",
    "\n",
    "log_prior_k1 = np.log(N1/N)\n",
    "log_prior_k2 = np.log(N2/N)\n",
    "log_prior_k3 = np.log(N3/N)\n",
    "\n",
    "log_priors = np.array([log_prior_k1,log_prior_k2,log_prior_k3])"
   ]
  },
  {
   "cell_type": "code",
   "execution_count": 35,
   "metadata": {},
   "outputs": [
    {
     "name": "stdout",
     "output_type": "stream",
     "text": [
      "23\n"
     ]
    }
   ],
   "source": [
    "D_test = D1_test + D2_test + D3_test\n",
    "print(len(D_test))\n",
    "y_test = [\"k1\"]*len(D1_test) + [\"k2\"]*len(D2_test) + [\"k3\"]*len(D3_test)"
   ]
  },
  {
   "cell_type": "code",
   "execution_count": 36,
   "metadata": {},
   "outputs": [
    {
     "name": "stdout",
     "output_type": "stream",
     "text": [
      "['k1', 'k1', 'k1', 'k1', 'k1', 'k1', 'k1', 'k1', 'k1', 'k1', 'k1', 'k1', 'k1', 'k1', 'k1', 'k2', 'k2', 'k2', 'k2', 'k3', 'k3', 'k3', 'k3']\n",
      "['k1', 'k2', 'k1', 'k1', 'k1', 'k1', 'k1', 'k1', 'k1', 'k1', 'k1', 'k1', 'k1', 'k1', 'k1', 'k1', 'k2', 'k2', 'k2', 'k1', 'k3', 'k1', 'k3']\n"
     ]
    }
   ],
   "source": [
    "yhat_test = [] \n",
    "for d_test in D_test:\n",
    "    f = set([palabra for palabra in d_test.split() if palabra in V])\n",
    "    res = log_L.loc[f].sum(axis=0) + log_priors\n",
    "    yhat_test.append(res.idxmax())\n",
    "\n",
    "print(y_test)\n",
    "print(yhat_test)"
   ]
  },
  {
   "cell_type": "code",
   "execution_count": 37,
   "metadata": {},
   "outputs": [
    {
     "data": {
      "text/plain": [
       "array([[14,  1,  0],\n",
       "       [ 1,  3,  0],\n",
       "       [ 2,  0,  2]], dtype=int64)"
      ]
     },
     "execution_count": 37,
     "metadata": {},
     "output_type": "execute_result"
    }
   ],
   "source": [
    "from  sklearn.metrics import confusion_matrix\n",
    "confusion_matrix(y_test,yhat_test)"
   ]
  },
  {
   "cell_type": "code",
   "execution_count": 30,
   "metadata": {},
   "outputs": [
    {
     "data": {
      "text/plain": [
       "<matplotlib.axes._subplots.AxesSubplot at 0x21282c91148>"
      ]
     },
     "execution_count": 30,
     "metadata": {},
     "output_type": "execute_result"
    },
    {
     "data": {
      "image/png": "[encoded data removed]",
      "text/plain": [
       "<Figure size 576x432 with 2 Axes>"
      ]
     },
     "metadata": {
      "needs_background": "light"
     },
     "output_type": "display_data"
    }
   ],
   "source": [
    "import seaborn as sn\n",
    "array = confusion_matrix(y_test,yhat_test)\n",
    "df_cm = pd.DataFrame(array, index = ['k1','k2','k3'],\n",
    "                  columns = ['k1','k2','k3'])\n",
    "plt.figure(figsize = (8,6))\n",
    "sn.set(font_scale=1.4) # for label size\n",
    "sn.heatmap(df_cm, annot=True, annot_kws={\"size\": 16})"
   ]
  },
  {
   "cell_type": "code",
   "execution_count": null,
   "metadata": {},
   "outputs": [],
   "source": []
  }
 ],
 "metadata": {
  "kernelspec": {
   "display_name": "Python 3",
   "language": "python",
   "name": "python3"
  },
  "language_info": {
   "codemirror_mode": {
    "name": "ipython",
    "version": 3
   },
   "file_extension": ".py",
   "mimetype": "text/x-python",
   "name": "python",
   "nbconvert_exporter": "python",
   "pygments_lexer": "ipython3",
   "version": "3.7.4"
  }
 },
 "nbformat": 4,
 "nbformat_minor": 2
}
