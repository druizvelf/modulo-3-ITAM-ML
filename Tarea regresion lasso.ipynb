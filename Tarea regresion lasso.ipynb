{
 "cells": [
  {
   "cell_type": "code",
   "execution_count": 21,
   "metadata": {},
   "outputs": [],
   "source": [
    "from sklearn.pipeline import Pipeline\n",
    "from sklearn.preprocessing import PolynomialFeatures\n",
    "from sklearn.linear_model import LinearRegression\n",
    "from sklearn.linear_model import LogisticRegression, Lasso\n",
    "import numpy as np\n",
    "import pandas as pd\n",
    "import matplotlib.pyplot as plt\n",
    "from sklearn.model_selection import GridSearchCV\n",
    "from sklearn.metrics import r2_score, mean_absolute_error"
   ]
  },
  {
   "cell_type": "code",
   "execution_count": 2,
   "metadata": {
    "scrolled": true
   },
   "outputs": [
    {
     "data": {
      "text/html": [
       "<div>\n",
       "<style scoped>\n",
       "    .dataframe tbody tr th:only-of-type {\n",
       "        vertical-align: middle;\n",
       "    }\n",
       "\n",
       "    .dataframe tbody tr th {\n",
       "        vertical-align: top;\n",
       "    }\n",
       "\n",
       "    .dataframe thead th {\n",
       "        text-align: right;\n",
       "    }\n",
       "</style>\n",
       "<table border=\"1\" class=\"dataframe\">\n",
       "  <thead>\n",
       "    <tr style=\"text-align: right;\">\n",
       "      <th></th>\n",
       "      <th>KIMBERA</th>\n",
       "      <th>GAPB</th>\n",
       "      <th>CEMEXCPO</th>\n",
       "      <th>ASURB</th>\n",
       "      <th>GFNORTEO</th>\n",
       "      <th>KOFUBL</th>\n",
       "      <th>AC</th>\n",
       "      <th>LABB</th>\n",
       "      <th>FEMSAUBD</th>\n",
       "      <th>OMAB</th>\n",
       "      <th>...</th>\n",
       "      <th>MEGACPO</th>\n",
       "      <th>GCC</th>\n",
       "      <th>BIMBOA</th>\n",
       "      <th>GMEXICOB</th>\n",
       "      <th>GCARSOA1</th>\n",
       "      <th>TLEVICPO</th>\n",
       "      <th>ALFAA</th>\n",
       "      <th>BSMXB</th>\n",
       "      <th>PINFRA</th>\n",
       "      <th>MEXBOL</th>\n",
       "    </tr>\n",
       "    <tr>\n",
       "      <th>DATE</th>\n",
       "      <th></th>\n",
       "      <th></th>\n",
       "      <th></th>\n",
       "      <th></th>\n",
       "      <th></th>\n",
       "      <th></th>\n",
       "      <th></th>\n",
       "      <th></th>\n",
       "      <th></th>\n",
       "      <th></th>\n",
       "      <th></th>\n",
       "      <th></th>\n",
       "      <th></th>\n",
       "      <th></th>\n",
       "      <th></th>\n",
       "      <th></th>\n",
       "      <th></th>\n",
       "      <th></th>\n",
       "      <th></th>\n",
       "      <th></th>\n",
       "      <th></th>\n",
       "    </tr>\n",
       "  </thead>\n",
       "  <tbody>\n",
       "    <tr>\n",
       "      <td>2016-01-01</td>\n",
       "      <td>40.37</td>\n",
       "      <td>152.05</td>\n",
       "      <td>8.72</td>\n",
       "      <td>243.89</td>\n",
       "      <td>94.99</td>\n",
       "      <td>123.90</td>\n",
       "      <td>104.68</td>\n",
       "      <td>13.85</td>\n",
       "      <td>161.63</td>\n",
       "      <td>83.61</td>\n",
       "      <td>...</td>\n",
       "      <td>64.19</td>\n",
       "      <td>44.81</td>\n",
       "      <td>45.95</td>\n",
       "      <td>36.79</td>\n",
       "      <td>70.98</td>\n",
       "      <td>94.34</td>\n",
       "      <td>34.10</td>\n",
       "      <td>30.25</td>\n",
       "      <td>202.73</td>\n",
       "      <td>42977.50</td>\n",
       "    </tr>\n",
       "    <tr>\n",
       "      <td>2016-01-04</td>\n",
       "      <td>39.16</td>\n",
       "      <td>148.57</td>\n",
       "      <td>8.43</td>\n",
       "      <td>238.29</td>\n",
       "      <td>91.79</td>\n",
       "      <td>120.29</td>\n",
       "      <td>102.09</td>\n",
       "      <td>14.41</td>\n",
       "      <td>157.62</td>\n",
       "      <td>81.77</td>\n",
       "      <td>...</td>\n",
       "      <td>64.45</td>\n",
       "      <td>43.51</td>\n",
       "      <td>45.02</td>\n",
       "      <td>35.71</td>\n",
       "      <td>69.83</td>\n",
       "      <td>92.62</td>\n",
       "      <td>33.74</td>\n",
       "      <td>29.46</td>\n",
       "      <td>202.93</td>\n",
       "      <td>42113.70</td>\n",
       "    </tr>\n",
       "    <tr>\n",
       "      <td>2016-01-05</td>\n",
       "      <td>38.89</td>\n",
       "      <td>147.93</td>\n",
       "      <td>8.31</td>\n",
       "      <td>233.03</td>\n",
       "      <td>91.72</td>\n",
       "      <td>118.82</td>\n",
       "      <td>101.12</td>\n",
       "      <td>13.77</td>\n",
       "      <td>157.80</td>\n",
       "      <td>81.58</td>\n",
       "      <td>...</td>\n",
       "      <td>63.16</td>\n",
       "      <td>43.51</td>\n",
       "      <td>45.77</td>\n",
       "      <td>36.45</td>\n",
       "      <td>70.70</td>\n",
       "      <td>91.89</td>\n",
       "      <td>33.99</td>\n",
       "      <td>29.72</td>\n",
       "      <td>203.56</td>\n",
       "      <td>42041.68</td>\n",
       "    </tr>\n",
       "    <tr>\n",
       "      <td>2016-01-06</td>\n",
       "      <td>39.13</td>\n",
       "      <td>146.99</td>\n",
       "      <td>8.29</td>\n",
       "      <td>231.97</td>\n",
       "      <td>91.63</td>\n",
       "      <td>120.32</td>\n",
       "      <td>102.50</td>\n",
       "      <td>13.65</td>\n",
       "      <td>156.37</td>\n",
       "      <td>82.03</td>\n",
       "      <td>...</td>\n",
       "      <td>63.27</td>\n",
       "      <td>43.51</td>\n",
       "      <td>45.97</td>\n",
       "      <td>35.57</td>\n",
       "      <td>70.47</td>\n",
       "      <td>90.41</td>\n",
       "      <td>33.65</td>\n",
       "      <td>29.67</td>\n",
       "      <td>199.80</td>\n",
       "      <td>41691.19</td>\n",
       "    </tr>\n",
       "    <tr>\n",
       "      <td>2016-01-07</td>\n",
       "      <td>39.16</td>\n",
       "      <td>141.32</td>\n",
       "      <td>7.64</td>\n",
       "      <td>230.71</td>\n",
       "      <td>89.54</td>\n",
       "      <td>120.20</td>\n",
       "      <td>101.16</td>\n",
       "      <td>13.25</td>\n",
       "      <td>155.14</td>\n",
       "      <td>80.94</td>\n",
       "      <td>...</td>\n",
       "      <td>62.78</td>\n",
       "      <td>42.76</td>\n",
       "      <td>46.18</td>\n",
       "      <td>35.01</td>\n",
       "      <td>68.15</td>\n",
       "      <td>90.23</td>\n",
       "      <td>31.46</td>\n",
       "      <td>28.50</td>\n",
       "      <td>196.75</td>\n",
       "      <td>40661.57</td>\n",
       "    </tr>\n",
       "  </tbody>\n",
       "</table>\n",
       "<p>5 rows × 36 columns</p>\n",
       "</div>"
      ],
      "text/plain": [
       "            KIMBERA    GAPB  CEMEXCPO   ASURB  GFNORTEO  KOFUBL      AC  \\\n",
       "DATE                                                                      \n",
       "2016-01-01    40.37  152.05      8.72  243.89     94.99  123.90  104.68   \n",
       "2016-01-04    39.16  148.57      8.43  238.29     91.79  120.29  102.09   \n",
       "2016-01-05    38.89  147.93      8.31  233.03     91.72  118.82  101.12   \n",
       "2016-01-06    39.13  146.99      8.29  231.97     91.63  120.32  102.50   \n",
       "2016-01-07    39.16  141.32      7.64  230.71     89.54  120.20  101.16   \n",
       "\n",
       "             LABB  FEMSAUBD   OMAB  ...  MEGACPO    GCC  BIMBOA  GMEXICOB  \\\n",
       "DATE                                ...                                     \n",
       "2016-01-01  13.85    161.63  83.61  ...    64.19  44.81   45.95     36.79   \n",
       "2016-01-04  14.41    157.62  81.77  ...    64.45  43.51   45.02     35.71   \n",
       "2016-01-05  13.77    157.80  81.58  ...    63.16  43.51   45.77     36.45   \n",
       "2016-01-06  13.65    156.37  82.03  ...    63.27  43.51   45.97     35.57   \n",
       "2016-01-07  13.25    155.14  80.94  ...    62.78  42.76   46.18     35.01   \n",
       "\n",
       "            GCARSOA1  TLEVICPO  ALFAA  BSMXB  PINFRA    MEXBOL  \n",
       "DATE                                                            \n",
       "2016-01-01     70.98     94.34  34.10  30.25  202.73  42977.50  \n",
       "2016-01-04     69.83     92.62  33.74  29.46  202.93  42113.70  \n",
       "2016-01-05     70.70     91.89  33.99  29.72  203.56  42041.68  \n",
       "2016-01-06     70.47     90.41  33.65  29.67  199.80  41691.19  \n",
       "2016-01-07     68.15     90.23  31.46  28.50  196.75  40661.57  \n",
       "\n",
       "[5 rows x 36 columns]"
      ]
     },
     "execution_count": 2,
     "metadata": {},
     "output_type": "execute_result"
    }
   ],
   "source": [
    "ipc_path = \"ipc.xlsx\" # Modificar a ruta\n",
    "market = pd.read_excel(ipc_path, index_col=0)\n",
    "market.columns = [c.replace(\" MF Equity\", \"\").replace(\" INDEX\", \"\").replace(\"*\", \"\") for c in market.columns]\n",
    "market.head()"
   ]
  },
  {
   "cell_type": "code",
   "execution_count": 3,
   "metadata": {},
   "outputs": [],
   "source": [
    "Rmkt = market.diff().dropna()"
   ]
  },
  {
   "cell_type": "code",
   "execution_count": 4,
   "metadata": {},
   "outputs": [],
   "source": [
    "Xall = Rmkt.drop(\"MEXBOL\", axis=1)\n",
    "Xall = Xall.join(Rmkt[\"MEXBOL\"].shift(-1)).dropna()\n",
    "\n",
    "X = Xall.drop(\"MEXBOL\", axis=1)\n",
    "y = Xall[\"MEXBOL\"]"
   ]
  },
  {
   "cell_type": "code",
   "execution_count": 41,
   "metadata": {},
   "outputs": [],
   "source": [
    "from sklearn.model_selection import train_test_split\n",
    "\n",
    "Xtrain, Xtest, ytrain, ytest = train_test_split(X, y, test_size=0.2, random_state=1643)"
   ]
  },
  {
   "cell_type": "code",
   "execution_count": 94,
   "metadata": {},
   "outputs": [
    {
     "data": {
      "text/plain": [
       "((671, 36), (536, 35), (135, 35), (536,), (135,))"
      ]
     },
     "execution_count": 94,
     "metadata": {},
     "output_type": "execute_result"
    }
   ],
   "source": [
    "Xall.shape, Xtrain.shape, Xtest.shape,  ytrain.shape, ytest.shape\n"
   ]
  },
  {
   "cell_type": "code",
   "execution_count": 111,
   "metadata": {},
   "outputs": [],
   "source": [
    "from numpy.random import uniform\n",
    "alpha_list = uniform(0.0001, 10, 200)"
   ]
  },
  {
   "cell_type": "code",
   "execution_count": 140,
   "metadata": {},
   "outputs": [],
   "source": [
    "params = {\n",
    "    \"lor__alpha\": alpha_list,\n",
    "    \"lor__max_iter\" : [3000]\n",
    "    #\"lor__normalize\":[True, False]\n",
    "}\n",
    "\n",
    "pipe = Pipeline([\n",
    "    (\"poly\", PolynomialFeatures(degree=2, include_bias=False)),\n",
    "    (\"lor\", Lasso())\n",
    "])\n"
   ]
  },
  {
   "cell_type": "code",
   "execution_count": 141,
   "metadata": {},
   "outputs": [],
   "source": [
    "gcv = GridSearchCV(pipe, params, scoring=\"r2\",n_jobs=-1)"
   ]
  },
  {
   "cell_type": "code",
   "execution_count": 142,
   "metadata": {},
   "outputs": [
    {
     "name": "stderr",
     "output_type": "stream",
     "text": [
      "/Users/grguevara/opt/anaconda3/lib/python3.7/site-packages/sklearn/model_selection/_split.py:1978: FutureWarning: The default value of cv will change from 3 to 5 in version 0.22. Specify it explicitly to silence this warning.\n",
      "  warnings.warn(CV_WARNING, FutureWarning)\n",
      "/Users/grguevara/opt/anaconda3/lib/python3.7/site-packages/sklearn/model_selection/_search.py:814: DeprecationWarning: The default of the `iid` parameter will change from True to False in version 0.22 and will be removed in 0.24. This will change numeric results when test-set sizes are unequal.\n",
      "  DeprecationWarning)\n"
     ]
    },
    {
     "data": {
      "text/plain": [
       "GridSearchCV(cv='warn', error_score='raise-deprecating',\n",
       "             estimator=Pipeline(memory=None,\n",
       "                                steps=[('poly',\n",
       "                                        PolynomialFeatures(degree=2,\n",
       "                                                           include_bias=False,\n",
       "                                                           interaction_only=False,\n",
       "                                                           order='C')),\n",
       "                                       ('lor',\n",
       "                                        Lasso(alpha=1.0, copy_X=True,\n",
       "                                              fit_intercept=True, max_iter=1000,\n",
       "                                              normalize=False, positive=False,\n",
       "                                              precompute=False,\n",
       "                                              random_state=None,\n",
       "                                              selection='cyclic', tol=0.0001,\n",
       "                                              war...\n",
       "       2.14752744, 3.23959605, 5.30320575, 7.11303637, 4.4526429 ,\n",
       "       2.45337395, 7.54578776, 4.08003892, 0.82520208, 2.59375672,\n",
       "       8.73481677, 6.28107814, 8.73910618, 7.24509096, 7.87581426,\n",
       "       0.88218411, 4.40889336, 0.27290847, 0.1613605 , 9.29209231,\n",
       "       3.12080696, 2.1542953 , 2.16336222, 2.09861592, 9.71378843]),\n",
       "                         'lor__max_iter': [3000]},\n",
       "             pre_dispatch='2*n_jobs', refit=True, return_train_score=False,\n",
       "             scoring='r2', verbose=0)"
      ]
     },
     "execution_count": 142,
     "metadata": {},
     "output_type": "execute_result"
    }
   ],
   "source": [
    "gcv.fit(Xtrain, ytrain)"
   ]
  },
  {
   "cell_type": "code",
   "execution_count": 143,
   "metadata": {},
   "outputs": [],
   "source": [
    "filt = gcv.best_estimator_.named_steps['lor'].coef_ > 1e-2"
   ]
  },
  {
   "cell_type": "code",
   "execution_count": 144,
   "metadata": {},
   "outputs": [
    {
     "data": {
      "text/plain": [
       "array([ -0.        ,   0.        ,   0.        ,   0.        ,\n",
       "         1.43592045,   0.        ,  -0.        ,   0.        ,\n",
       "        -5.16948468,   5.10845128,  -0.        ,   0.        ,\n",
       "        -0.        ,   0.        ,   3.03583996,  -0.        ,\n",
       "         0.        ,   0.        ,   0.        ,   5.26641757,\n",
       "        -0.        ,  28.43193153,  -0.        ,   0.9286413 ,\n",
       "         0.        ,  -0.        ,  -0.        ,  -0.        ,\n",
       "         0.        ,  -0.        ,   0.        ,   0.        ,\n",
       "        -0.        ,  -0.        ,  10.31408408,  -0.        ,\n",
       "         0.        ,  -0.        ,   7.81227988,  -0.        ,\n",
       "        -0.        ,  -0.        ,   0.        ,  -1.19869491,\n",
       "        -0.        ,  -0.        ,   0.        ,   0.        ,\n",
       "         0.        ,  -6.14549805,   9.50213577,   0.        ,\n",
       "        -0.        ,  -0.        ,   0.        ,  -0.        ,\n",
       "        -0.        ,  -0.        ,  -1.29763093,   0.        ,\n",
       "        -0.        ,  -0.        ,  -7.39027041,   0.        ,\n",
       "        -0.        ,   0.        ,   0.        ,   0.        ,\n",
       "        -0.        ,   4.36512418,  -0.59967403,  -0.        ,\n",
       "         0.68941917,  -0.        ,  -7.3868018 ,   5.72201954,\n",
       "        -0.        ,   1.22412176,   0.97549408,   0.        ,\n",
       "        -0.        ,   5.67833175,  -4.32861653,   0.78707969,\n",
       "         0.        ,  -3.47469892,  -2.38339937, -12.35787855,\n",
       "         1.99913144,  11.89703203,   1.88571297,  -0.        ,\n",
       "         0.23973357,   6.34818159,   0.        ,   8.15415061,\n",
       "         2.56494404,   0.        ,  11.93181795,   8.77348621,\n",
       "         0.84356019, -15.52575009,   0.        ,  -0.        ,\n",
       "        -0.        ,  -0.        ,  -0.        ,  -0.        ,\n",
       "        -0.        ,  -0.        ,  -0.        ,   0.        ,\n",
       "        -0.        ,   0.        ,   0.        ,   0.        ,\n",
       "        -0.        ,   0.        ,   0.        ,   0.        ,\n",
       "         0.        ,   0.        ,  -0.        ,   0.        ,\n",
       "        -0.        ,   0.        ,   0.        ,  -0.        ,\n",
       "        -0.        ,  -0.        ,   0.        ,  -0.        ,\n",
       "         0.        ,  -0.        ,  -0.        ,  -0.        ,\n",
       "         0.        ,  -0.63410495,   0.058412  ,  -2.85258016,\n",
       "        -6.32803416,  -0.        ,   4.25648775,   3.29776973,\n",
       "        -0.        ,   0.        ,  -0.        ,  -0.        ,\n",
       "         0.37297582,   2.87101015,  -5.60795236,   1.56048911,\n",
       "        -5.28362742,   0.23055684,  -0.        ,  -3.2666537 ,\n",
       "         1.20928722,  -0.38339513,  19.02150417,   8.63140329,\n",
       "         0.        ,  -3.41049178,   0.        , -10.23653298,\n",
       "         0.        ,   1.73551026,   0.        ,   0.        ,\n",
       "         2.70495291,   0.        ,   3.34956077,  -0.        ,\n",
       "         0.        ,  -0.        ,  12.00875999,  -0.        ,\n",
       "         0.        ,  -0.        ,  -2.93715077,  -0.49696331,\n",
       "        -6.99466777,   0.        ,   0.        ,   0.        ,\n",
       "         1.93448202,  -0.        ,  -0.        ,  -0.        ,\n",
       "        -1.34317254,  -0.        ,  -0.        ,   0.        ,\n",
       "       -18.48845091,  -0.        ,   0.18244892,   0.        ,\n",
       "        -0.        ,   0.        ,  -0.        ,  -1.6015188 ,\n",
       "         2.98880256,  -0.        ,   0.        ,  -0.        ,\n",
       "         4.8687285 ,   0.        ,   0.        ,  -0.        ,\n",
       "        -0.        ,   2.54041889,   2.50533531,   7.3368216 ,\n",
       "         0.        ,   0.        , -10.62257432,  -0.        ,\n",
       "         0.        ,  -0.        ,  -0.69044819,  -0.        ,\n",
       "        -0.        ,   0.        ,  -0.        ,  35.04136324,\n",
       "        -1.97366366,   0.        ,  -1.42848035,  -0.        ,\n",
       "        -0.        ,  -0.16460144,  -1.07463014,  -0.        ,\n",
       "        -0.        ,  -0.        ,  -0.        ,   0.        ,\n",
       "        16.73673268,   0.        ,  -0.15001098,   3.78878328,\n",
       "        -0.62901219,  -0.        ,  -0.        ,   0.        ,\n",
       "        -0.        ,  -1.41958378,   0.        ,   0.        ,\n",
       "        -0.        ,  -0.        ,  -9.22348103,   0.        ,\n",
       "         0.        ,  -0.41686065,   0.        ,   0.        ,\n",
       "        -0.        ,   0.        ,   3.45977076,  -0.        ,\n",
       "         0.        ,  -0.        ,   0.        ,   0.        ,\n",
       "         0.        ,   0.        ,   0.67516621,   5.31331507,\n",
       "         0.        ,   0.        ,   0.        ,   0.        ,\n",
       "         0.        ,   0.        ,   0.        ,  -0.        ,\n",
       "        -0.        ,   0.        ,   0.        ,  -0.        ,\n",
       "         0.        ,  -0.        ,   0.        ,  -0.        ,\n",
       "        -0.        ,  -0.        ,   0.        ,  -2.08280523,\n",
       "        -8.47947784,   0.        ,   0.        ,  -0.        ,\n",
       "        10.37772117,  -4.18035385,   2.42345583,  -3.8624036 ,\n",
       "         0.        ,   0.        ,  -2.28377627,  -0.        ,\n",
       "        15.5034702 ,  -0.        ,   1.21191902,  -0.        ,\n",
       "        -0.        ,  -9.69971926,   2.48598266,  -0.        ,\n",
       "       -10.78303499,  -6.15562853,  -3.46854721,  -0.        ,\n",
       "        -0.        ,   1.27375273,  -6.923747  ,   0.        ,\n",
       "         0.        ,   0.        ,  -0.        ,  -4.06226976,\n",
       "         0.        ,  -0.        , -20.66730142,  -0.        ,\n",
       "         2.12761672,   0.        ,   4.36713729,  -6.09159782,\n",
       "        -0.07608121,   0.        ,   0.        , -11.42471037,\n",
       "        14.35776259, -11.37818181,  -1.07434142, -35.12276548,\n",
       "        -0.        ,  -0.        ,   0.        ,  -8.10377972,\n",
       "         0.        ,   0.        ,   0.        ,   0.        ,\n",
       "        -0.        ,  -6.57188925,   0.        ,   0.        ,\n",
       "         0.        ,  10.57708589,   0.        ,   0.        ,\n",
       "        -0.        ,  -0.22454477,  -0.        ,   0.        ,\n",
       "         0.        ,   0.        ,   0.        ,   0.        ,\n",
       "         0.        ,   0.        ,   0.        ,   0.        ,\n",
       "         0.        ,   0.        ,   0.        ,   0.        ,\n",
       "        17.75895076,   0.        ,   0.        ,   0.        ,\n",
       "        -0.        ,   0.        ,   0.        ,   0.        ,\n",
       "         0.        ,   0.61677107,   0.        ,   0.        ,\n",
       "         0.        ,   0.        ,   0.        ,   0.        ,\n",
       "         0.        ,  -0.        ,   0.        ,   0.        ,\n",
       "         0.        ,   0.74191099,  -0.        ,  -0.64607842,\n",
       "        -8.10494529, -14.68275357,  -0.        ,   0.        ,\n",
       "         0.        ,  -0.        ,   0.        ,  -0.        ,\n",
       "        -0.19277204,  -0.        ,   0.        ,   0.        ,\n",
       "        20.95484922,   0.        ,   0.        ,  -0.        ,\n",
       "        -3.57372631,   0.        ,  -0.        ,   0.        ,\n",
       "        -0.        ,   2.21187603,  -2.57879123,  -0.        ,\n",
       "        -0.        ,  -0.        ,  -0.        ,  -0.        ,\n",
       "        12.35509682, -19.03236754,   1.31630618,   0.        ,\n",
       "        -0.        ,  -0.        ,   0.        ,  21.76325832,\n",
       "         3.86283625,   0.        ,   0.        ,  -0.        ,\n",
       "        -0.        ,  -0.        ,  -0.25371627,  -2.74814075,\n",
       "         3.76334397,   5.87671349,   0.        ,   2.47326015,\n",
       "        -8.98544648,   2.78518998,  -0.        ,   0.10366872,\n",
       "        -6.00928628,  -0.        ,  -0.        ,   0.        ,\n",
       "         3.00352517,  -1.35378565,  -2.90990551,   2.52486418,\n",
       "        -4.08363442,  14.82420389,   1.0886519 ,   0.        ,\n",
       "        -1.37730475,   0.        ,   1.43716232,  -5.94306539,\n",
       "        -0.        ,   3.16499023,   0.        ,   1.20118903,\n",
       "         0.        ,   1.90385452,  -0.        ,   0.62631986,\n",
       "       -15.58595454,  15.7417716 ,  -5.3344538 ,   0.        ,\n",
       "        -0.        ,   0.        ,  -2.87871425,   0.        ,\n",
       "        -0.        ,  -0.        ,   8.32397257,   0.        ,\n",
       "         7.66646199,  -4.44726783,  -0.13043622,  -0.        ,\n",
       "        -0.        ,   0.        ,  -2.47325892,   0.        ,\n",
       "        -0.44424279,   2.26964523,   0.        ,  -0.        ,\n",
       "        29.25901356,  -3.53851209,  -4.91713935,   0.        ,\n",
       "        -5.66931233,   0.        ,  -0.61597   ,  -0.        ,\n",
       "        -0.        ,   0.        ,   0.        ,  -0.        ,\n",
       "         0.        ,   0.        ,   0.        ,  -0.        ,\n",
       "         0.        ,  -0.        ,   0.        ,  -0.        ,\n",
       "        -0.        ,   2.13677576,   0.        ,  -0.        ,\n",
       "        -0.        ,  -2.50403997,   0.        ,  -0.        ,\n",
       "         0.        ,  -0.        ,   0.        ,  -0.        ,\n",
       "         0.        ,  -0.        ,  -0.        ,   0.        ,\n",
       "         0.        ,   0.        ,  -0.        ,  -0.        ,\n",
       "        -1.16650657,  -0.37972769,  -0.        ,  -0.        ,\n",
       "         0.        , -10.44690331,   0.        ,   0.        ,\n",
       "         8.2433211 , -13.41932172,  -0.        ,  19.61991189,\n",
       "        -7.90760931,   0.        ,  -0.        ,   0.        ,\n",
       "        -0.        ,   0.        ,  -0.        ,   0.        ,\n",
       "         0.        ,   0.        ,  -0.        ,  -0.        ,\n",
       "        -0.        ,   0.        ,   0.        ,   0.        ,\n",
       "        -5.28276501, -26.57524689,   0.        ,   0.        ,\n",
       "        -0.        ,   0.        ,  10.95344384,  -0.        ,\n",
       "         8.78735049,  -0.        ,   5.82218192,   0.        ,\n",
       "         0.        ,  -5.41972017, -19.43018471,   0.        ,\n",
       "         0.        ,  -0.        ,  -0.        ,  42.37100241,\n",
       "         0.        ,  -0.        ,  -0.        ,  -0.        ,\n",
       "        -0.        ,  -0.        ,   0.        ,  -0.05262193,\n",
       "        -0.        ,   2.2974314 ,  -0.10819906,  -0.31361886,\n",
       "        -0.14592794,   1.42797413,   0.18012158,   1.86385265,\n",
       "         5.21961525,   0.        ,   0.77427489,  -0.        ,\n",
       "        -0.        ,   0.        ,   3.69728462,  -0.        ,\n",
       "        -0.        ,   0.        ,  -0.        ,  -0.        ,\n",
       "         0.        ,  10.38525494,  -0.        ,  -0.        ,\n",
       "         0.        ,  -0.        ,  -0.        ,  -0.        ,\n",
       "        -0.        ,   0.        ,  -0.        ,  -0.        ,\n",
       "        -0.        ,  -6.793154  ,   0.        , -17.49769155,\n",
       "        -0.        ,   0.        ,  -0.        ,   0.        ,\n",
       "        10.13929885,   6.65677616,   0.        ,   7.24674591,\n",
       "        -0.        ,   0.        ,   0.        ,   0.        ,\n",
       "         0.        ,   0.        ,   1.55767962,   0.        ,\n",
       "         0.        ,   0.        ,   0.        ,   0.        ,\n",
       "        -0.        ,   0.        ,   0.        ,  -0.        ,\n",
       "         0.        ,   0.        ,   0.        ,  -9.78503716,\n",
       "         0.        ,   0.        ,  -0.        ,  -7.04747106,\n",
       "         0.        ,  -0.        ,   0.        ,  -0.        ,\n",
       "        -0.        ,  -5.11071469,  -0.        ,   0.        ,\n",
       "        -0.57668754])"
      ]
     },
     "execution_count": 144,
     "metadata": {},
     "output_type": "execute_result"
    }
   ],
   "source": [
    "gcv.best_estimator_.named_steps['lor'].coef_"
   ]
  },
  {
   "cell_type": "code",
   "execution_count": 153,
   "metadata": {},
   "outputs": [
    {
     "data": {
      "text/plain": [
       "110"
      ]
     },
     "execution_count": 153,
     "metadata": {},
     "output_type": "execute_result"
    }
   ],
   "source": [
    "signif = gcv.best_estimator_.named_steps['lor'].coef_[filt]\n",
    "len(signif)"
   ]
  },
  {
   "cell_type": "code",
   "execution_count": 146,
   "metadata": {},
   "outputs": [
    {
     "data": {
      "text/plain": [
       "70.67232962093142"
      ]
     },
     "execution_count": 146,
     "metadata": {},
     "output_type": "execute_result"
    }
   ],
   "source": [
    "gcv.best_estimator_.named_steps['lor'].intercept_"
   ]
  },
  {
   "cell_type": "code",
   "execution_count": 147,
   "metadata": {},
   "outputs": [],
   "source": [
    "yhat = gcv.predict(Xtest)"
   ]
  },
  {
   "cell_type": "code",
   "execution_count": 148,
   "metadata": {},
   "outputs": [
    {
     "data": {
      "text/plain": [
       "320.2756189013295"
      ]
     },
     "execution_count": 148,
     "metadata": {},
     "output_type": "execute_result"
    }
   ],
   "source": [
    "mean_absolute_error(ytest, yhat)\n"
   ]
  },
  {
   "cell_type": "code",
   "execution_count": 149,
   "metadata": {},
   "outputs": [
    {
     "data": {
      "text/plain": [
       "-0.7687795638109423"
      ]
     },
     "execution_count": 149,
     "metadata": {},
     "output_type": "execute_result"
    }
   ],
   "source": [
    "r2_score(ytest,yhat)"
   ]
  },
  {
   "cell_type": "code",
   "execution_count": 150,
   "metadata": {},
   "outputs": [
    {
     "data": {
      "text/plain": [
       "{'lor__alpha': 9.972326155107893, 'lor__max_iter': 3000}"
      ]
     },
     "execution_count": 150,
     "metadata": {},
     "output_type": "execute_result"
    }
   ],
   "source": [
    "gcv.best_params_"
   ]
  },
  {
   "cell_type": "code",
   "execution_count": 164,
   "metadata": {},
   "outputs": [
    {
     "data": {
      "text/plain": [
       "<matplotlib.collections.PathCollection at 0x1a23624e10>"
      ]
     },
     "execution_count": 164,
     "metadata": {},
     "output_type": "execute_result"
    },
    {
     "data": {
      "image/png": "[encoded data removed]",
      "text/plain": [
       "<Figure size 432x288 with 1 Axes>"
      ]
     },
     "metadata": {
      "needs_background": "light"
     },
     "output_type": "display_data"
    }
   ],
   "source": [
    "plt.scatter(np.linspace(0,1,len(signif)),signif, marker='o')"
   ]
  },
  {
   "cell_type": "code",
   "execution_count": null,
   "metadata": {},
   "outputs": [],
   "source": []
  }
 ],
 "metadata": {
  "kernelspec": {
   "display_name": "Python 3",
   "language": "python",
   "name": "python3"
  },
  "language_info": {
   "codemirror_mode": {
    "name": "ipython",
    "version": 3
   },
   "file_extension": ".py",
   "mimetype": "text/x-python",
   "name": "python",
   "nbconvert_exporter": "python",
   "pygments_lexer": "ipython3",
   "version": "3.7.4"
  }
 },
 "nbformat": 4,
 "nbformat_minor": 4
}
